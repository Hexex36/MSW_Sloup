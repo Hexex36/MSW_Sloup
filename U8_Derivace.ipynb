{
 "cells": [
  {
   "cell_type": "markdown",
   "metadata": {},
   "source": [
    "## Derivace: Adaptabilní krok"
   ]
  },
  {
   "cell_type": "markdown",
   "metadata": {},
   "source": [
    "### 0. Příprava"
   ]
  },
  {
   "cell_type": "markdown",
   "metadata": {},
   "source": [
    "#### 0.1. Načtení knihoven"
   ]
  },
  {
   "cell_type": "code",
   "execution_count": 2,
   "metadata": {},
   "outputs": [],
   "source": [
    "import sympy\n",
    "from typing import Callable"
   ]
  },
  {
   "cell_type": "markdown",
   "metadata": {},
   "source": [
    "#### 0.2. Volba funkce"
   ]
  },
  {
   "cell_type": "code",
   "execution_count": 3,
   "metadata": {},
   "outputs": [
    {
     "name": "stdout",
     "output_type": "stream",
     "text": [
      "3*x**2 - 5\n"
     ]
    },
    {
     "data": {
      "text/latex": [
       "$\\displaystyle 22$"
      ],
      "text/plain": [
       "22"
      ]
     },
     "execution_count": 3,
     "metadata": {},
     "output_type": "execute_result"
    }
   ],
   "source": [
    "test_func = lambda x: x**3 - 5*x\n",
    "\n",
    "x_sym = sympy.symbols('x')\n",
    "test_func_sym = x_sym**3 - 5*x_sym\n",
    "\n",
    "print(sympy.diff(test_func_sym))\n",
    "sympy.diff(test_func_sym).subs(x_sym, 3)"
   ]
  },
  {
   "cell_type": "markdown",
   "metadata": {},
   "source": [
    "### 1. Derivace s adaptabilním krokem"
   ]
  },
  {
   "cell_type": "markdown",
   "metadata": {},
   "source": [
    "#### 1.1. Centrální derivace"
   ]
  },
  {
   "cell_type": "code",
   "execution_count": 4,
   "metadata": {},
   "outputs": [],
   "source": [
    "def central_derivate(function:Callable[[int], int], start_point: int, limit:int = 0.001) -> int:\n",
    "    return (function(start_point+limit) - function(start_point-limit))/(limit*2)"
   ]
  },
  {
   "cell_type": "code",
   "execution_count": 72,
   "metadata": {},
   "outputs": [
    {
     "name": "stdout",
     "output_type": "stream",
     "text": [
      "295.0000009998348\n"
     ]
    }
   ],
   "source": [
    "print(central_derivate(test_func, 10))"
   ]
  },
  {
   "cell_type": "code",
   "execution_count": 41,
   "metadata": {},
   "outputs": [
    {
     "data": {
      "text/plain": [
       "22.000099999999634"
      ]
     },
     "execution_count": 41,
     "metadata": {},
     "output_type": "execute_result"
    }
   ],
   "source": [
    "central_derivate(test_func, 3, 0.01)"
   ]
  },
  {
   "cell_type": "markdown",
   "metadata": {},
   "source": [
    "#### 1.2. Odhad erroru"
   ]
  },
  {
   "cell_type": "code",
   "execution_count": 5,
   "metadata": {},
   "outputs": [],
   "source": [
    "def error_estimate(function:Callable[[float], float], start_point: float, limit:float = 0.001) -> (float):\n",
    "    non_half = central_derivate(function, start_point, limit)\n",
    "    half = central_derivate(function, start_point, (limit/2))\n",
    "\n",
    "    return abs(non_half - half)"
   ]
  },
  {
   "cell_type": "code",
   "execution_count": 96,
   "metadata": {},
   "outputs": [
    {
     "data": {
      "text/plain": [
       "5.6843418860808015e-09"
      ]
     },
     "execution_count": 96,
     "metadata": {},
     "output_type": "execute_result"
    }
   ],
   "source": [
    "error_estimate(test_func, 10, 0.00001)"
   ]
  },
  {
   "cell_type": "markdown",
   "metadata": {},
   "source": [
    "#### 1.3. Derivace s adaptabilním krokem"
   ]
  },
  {
   "cell_type": "code",
   "execution_count": 6,
   "metadata": {},
   "outputs": [],
   "source": [
    "def central_derivate_AS(function:Callable[[int], int], start_point: int, limit: int = 0.01, error_margin:int = 1.5e-09):\n",
    "\n",
    "    step = 1000 # Přerušení v případě nekonečného loopu\n",
    "    last_error = 1\n",
    "    curr_error = error_estimate(function, start_point, limit)\n",
    "    while curr_error > error_margin and step:\n",
    "        if curr_error > last_error:\n",
    "            limit *= 3\n",
    "        \n",
    "        limit /= 2\n",
    "\n",
    "        last_error = curr_error\n",
    "        curr_error = error_estimate(function, start_point, limit)\n",
    "        step -= 1\n",
    "\n",
    "        #print(limit, step, curr_error)\n",
    "\n",
    "    return central_derivate(function, start_point, limit)\n"
   ]
  },
  {
   "cell_type": "code",
   "execution_count": 9,
   "metadata": {},
   "outputs": [
    {
     "data": {
      "text/plain": [
       "70.00000000152795"
      ]
     },
     "execution_count": 9,
     "metadata": {},
     "output_type": "execute_result"
    }
   ],
   "source": [
    "central_derivate_AS(test_func, -5)"
   ]
  },
  {
   "cell_type": "code",
   "execution_count": 10,
   "metadata": {},
   "outputs": [
    {
     "data": {
      "text/plain": [
       "70.00000100002524"
      ]
     },
     "execution_count": 10,
     "metadata": {},
     "output_type": "execute_result"
    }
   ],
   "source": [
    "central_derivate(test_func, -5)"
   ]
  },
  {
   "cell_type": "code",
   "execution_count": 12,
   "metadata": {},
   "outputs": [
    {
     "data": {
      "text/latex": [
       "$\\displaystyle 70$"
      ],
      "text/plain": [
       "70"
      ]
     },
     "execution_count": 12,
     "metadata": {},
     "output_type": "execute_result"
    }
   ],
   "source": [
    "sympy.diff(test_func_sym).subs(x_sym, -5)"
   ]
  },
  {
   "cell_type": "markdown",
   "metadata": {},
   "source": [
    "#### 1.4. Testing"
   ]
  },
  {
   "cell_type": "code",
   "execution_count": 11,
   "metadata": {},
   "outputs": [
    {
     "data": {
      "text/plain": [
       "[9.99604878870741e-7,\n",
       " 9.92133664112771e-7,\n",
       " 1.00046690931777e-6,\n",
       " 9.95851223706268e-7,\n",
       " 9.97246729639301e-7,\n",
       " 9.98497284854238e-7,\n",
       " 9.98522153849990e-7,\n",
       " 9.98516114236736e-7,\n",
       " 9.98505012006490e-7,\n",
       " 9.98469396051860e-7,\n",
       " 9.98474121161053e-7,\n",
       " 9.98469396051860e-7,\n",
       " 9.98505012006490e-7,\n",
       " 9.98516114236736e-7,\n",
       " 9.98522153849990e-7,\n",
       " 9.98497284854238e-7,\n",
       " 9.97246729639301e-7,\n",
       " 9.95851223706268e-7,\n",
       " 1.00046690931777e-6,\n",
       " 9.92133664112771e-7]"
      ]
     },
     "execution_count": 11,
     "metadata": {},
     "output_type": "execute_result"
    }
   ],
   "source": [
    "test_diff = sympy.diff(test_func_sym)\n",
    "differences = [(central_derivate(test_func, x) - test_diff.subs(x_sym, x)) - (central_derivate_AS(test_func, x) - test_diff.subs(x_sym, x)) for x in range(-10,10)]\n",
    "\n",
    "differences"
   ]
  }
 ],
 "metadata": {
  "kernelspec": {
   "display_name": "Python 3",
   "language": "python",
   "name": "python3"
  },
  "language_info": {
   "codemirror_mode": {
    "name": "ipython",
    "version": 3
   },
   "file_extension": ".py",
   "mimetype": "text/x-python",
   "name": "python",
   "nbconvert_exporter": "python",
   "pygments_lexer": "ipython3",
   "version": "3.12.0"
  }
 },
 "nbformat": 4,
 "nbformat_minor": 2
}
