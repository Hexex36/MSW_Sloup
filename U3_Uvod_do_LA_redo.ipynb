{
 "cells": [
  {
   "cell_type": "markdown",
   "metadata": {},
   "source": [
    "## Úvod do lineární algebry"
   ]
  },
  {
   "cell_type": "markdown",
   "metadata": {},
   "source": [
    "### 0. Setup"
   ]
  },
  {
   "cell_type": "markdown",
   "metadata": {},
   "source": [
    "#### 0.1. Importy"
   ]
  },
  {
   "cell_type": "code",
   "execution_count": 1,
   "metadata": {},
   "outputs": [],
   "source": [
    "import numpy as np\n",
    "from random import choice, randint\n",
    "import timeit\n",
    "from typing import Callable\n",
    "import matplotlib.pyplot as plt"
   ]
  },
  {
   "cell_type": "markdown",
   "metadata": {},
   "source": [
    "#### 0.2. Kontrolní funkce\n",
    "Užito při kontrole validity generované matice (0.4.)."
   ]
  },
  {
   "cell_type": "code",
   "execution_count": 2,
   "metadata": {},
   "outputs": [],
   "source": [
    "def diagonally_dominant_assertion(matrix:np.ndarray) -> bool:\n",
    "    for row in range(len(matrix)):\n",
    "        test_val = matrix[row, row]\n",
    "        matrix[row, row] = 0\n",
    "        if test_val <= sum(matrix[row, :]):\n",
    "            #print(f\"{test_val} <= {sum(matrix[row, :])} ({matrix[row, :]})\")\n",
    "            return False\n",
    "\n",
    "        matrix[row, row] = test_val\n",
    "        \n",
    "    return True\n",
    "\n",
    "def linearly_independant_assertion(matrix:np.ndarray) -> bool:\n",
    "    #print(f\"Determinant: {np.linalg.det(matrix)}\")\n",
    "    return np.linalg.det(matrix) != 0"
   ]
  },
  {
   "cell_type": "markdown",
   "metadata": {},
   "source": [
    "#### 0.3. Prvočísla\n",
    "Užito při generaci matic (0.4.)."
   ]
  },
  {
   "cell_type": "code",
   "execution_count": 3,
   "metadata": {},
   "outputs": [],
   "source": [
    "def test_indivisibilty(divided:int, divisors:list) -> bool:\n",
    "    border = divided ** (1/2)\n",
    "    for number in divisors:\n",
    "        if number > border:\n",
    "            break\n",
    "\n",
    "        if divided % number == 0:\n",
    "            return False\n",
    "    \n",
    "    return True\n",
    "\n",
    "def generate_primes(number_of_primes:int) -> list:\n",
    "    initials = [3]\n",
    "    multiplier = 1\n",
    "    while len(initials) <= number_of_primes:\n",
    "        level = 6 * multiplier\n",
    "        multiplier += 1\n",
    "        if test_indivisibilty(level - 1, initials):\n",
    "            initials.append(level-1)\n",
    "        if test_indivisibilty(level + 1, initials):\n",
    "            initials.append(level + 1)\n",
    "\n",
    "    return initials"
   ]
  },
  {
   "cell_type": "markdown",
   "metadata": {},
   "source": [
    "#### 0.4. Generování vhodných matic"
   ]
  },
  {
   "cell_type": "code",
   "execution_count": 4,
   "metadata": {},
   "outputs": [],
   "source": [
    "def generate_matrix(dimensions:int, primes:list | None = None) -> tuple[np.ndarray, np.ndarray]: # Generuje matici a odpověď pro jednodušší použití\n",
    "    foundation = np.zeros((dimensions,dimensions), dtype=int)\n",
    "    if primes == None:\n",
    "        primes = generate_primes(dimensions)\n",
    "    else:\n",
    "        primes = primes[:]\n",
    "\n",
    "    for row in range(dimensions):\n",
    "        current_prime = choice(primes)\n",
    "        primes.remove(current_prime)\n",
    "        foundation[row, row] = (current_prime * sum(range(2, dimensions +1))) + (2 * dimensions)\n",
    "        for modifier in range(1, dimensions):\n",
    "            foundation[row, (row + modifier) % dimensions] = current_prime * (dimensions - modifier) + 1\n",
    "\n",
    "    assert linearly_independant_assertion(foundation), \"This matrix is not linearly independant.\"\n",
    "    assert diagonally_dominant_assertion(foundation), \"This matrix is not diagonally dominant.\"\n",
    "\n",
    "    answers = np.array([randint(1,200) for i in range(dimensions)])\n",
    "\n",
    "    return (foundation, answers)"
   ]
  },
  {
   "cell_type": "markdown",
   "metadata": {},
   "source": [
    "### 1. Přímá metoda: Gausovská eliminace\n",
    "Kód je silně inspirován dostupným příkladem na GitHubu."
   ]
  },
  {
   "cell_type": "code",
   "execution_count": 5,
   "metadata": {},
   "outputs": [],
   "source": [
    "def gaussian_elimination(matrix:np.ndarray, answers:np.ndarray) -> np.ndarray:\n",
    "    mat_with_answers = np.column_stack((matrix, answers)).astype(float)\n",
    "    #display(mat_with_answers)\n",
    "\n",
    "    lines = len(matrix)\n",
    "    #print(lines)\n",
    "\n",
    "    for row in range(lines):\n",
    "        mat_with_answers[row] /= mat_with_answers[row, row] # Potenciální dělení nulou, pls fix (reordering?)\n",
    "        for second_row in range(row + 1, lines):\n",
    "            mat_with_answers[second_row] -= mat_with_answers[second_row, row] * mat_with_answers[row]\n",
    "\n",
    "    #display(mat_with_answers)\n",
    "\n",
    "    solution = np.zeros(lines, dtype=float)\n",
    "\n",
    "    for backstep in range(lines - 1, -1, -1):\n",
    "        solution[backstep] = mat_with_answers[backstep, -1] - np.dot(mat_with_answers[backstep,:-1], solution)\n",
    "\n",
    "    return solution "
   ]
  },
  {
   "cell_type": "markdown",
   "metadata": {},
   "source": [
    "#### 1.1. Testování validity funkce\n",
    "Porovnání výsledku oproti knihovnové funkci numpy.linalg.solve."
   ]
  },
  {
   "cell_type": "code",
   "execution_count": 6,
   "metadata": {},
   "outputs": [],
   "source": [
    "test_array, test_answers = generate_matrix(5)"
   ]
  },
  {
   "cell_type": "code",
   "execution_count": 7,
   "metadata": {},
   "outputs": [
    {
     "data": {
      "text/plain": [
       "array([0.12479589, 1.54596447, 0.42828227, 0.5160091 , 0.21127217])"
      ]
     },
     "execution_count": 7,
     "metadata": {},
     "output_type": "execute_result"
    }
   ],
   "source": [
    "gaussian_elimination(test_array, test_answers)"
   ]
  },
  {
   "cell_type": "code",
   "execution_count": 8,
   "metadata": {},
   "outputs": [
    {
     "data": {
      "text/plain": [
       "array([0.12479589, 1.54596447, 0.42828227, 0.5160091 , 0.21127217])"
      ]
     },
     "execution_count": 8,
     "metadata": {},
     "output_type": "execute_result"
    }
   ],
   "source": [
    "np.linalg.solve(test_array, test_answers)"
   ]
  },
  {
   "cell_type": "markdown",
   "metadata": {},
   "source": [
    "### 2. Iterační metoda: Gauss-Seidlova metoda\n",
    "Kód je opět silně inspirován kódem z GitHubu."
   ]
  },
  {
   "cell_type": "code",
   "execution_count": 9,
   "metadata": {},
   "outputs": [],
   "source": [
    "def gauss_seidel(matrix:np.ndarray, answers:np.ndarray, diff:float = 1/(10**8)) -> np.ndarray:\n",
    "\n",
    "    current_iter = np.ones(len(matrix))\n",
    "    strict_upper = np.triu(matrix, k=1)\n",
    "    lower = np.tril(matrix, k=0)\n",
    "    inverted_lower = np.linalg.inv(lower)\n",
    "    \n",
    "    T = np.matmul(-inverted_lower, strict_upper)\n",
    "    C = np.matmul (inverted_lower, answers)\n",
    "\n",
    "    last_iter = np.zeros(len(matrix))\n",
    "\n",
    "    iteration = 1\n",
    "    while np.max(abs(current_iter - last_iter)) > diff:\n",
    "    #for i in range(20):\n",
    "        last_iter = current_iter\n",
    "        current_iter = np.matmul(T, current_iter, dtype=float) + C\n",
    "        #print(f\"Iterace {iteration}: {current_iter}\")\n",
    "        iteration += 1\n",
    "\n",
    "    return current_iter"
   ]
  },
  {
   "cell_type": "markdown",
   "metadata": {},
   "source": [
    "#### 2.1. Testování validity funkce"
   ]
  },
  {
   "cell_type": "code",
   "execution_count": 10,
   "metadata": {},
   "outputs": [
    {
     "data": {
      "text/plain": [
       "array([0.12479589, 1.54596447, 0.42828227, 0.5160091 , 0.21127217])"
      ]
     },
     "execution_count": 10,
     "metadata": {},
     "output_type": "execute_result"
    }
   ],
   "source": [
    "gauss_seidel(test_array, test_answers)"
   ]
  },
  {
   "cell_type": "code",
   "execution_count": 11,
   "metadata": {},
   "outputs": [
    {
     "data": {
      "text/plain": [
       "array([0.12479589, 1.54596447, 0.42828227, 0.5160091 , 0.21127217])"
      ]
     },
     "execution_count": 11,
     "metadata": {},
     "output_type": "execute_result"
    }
   ],
   "source": [
    "np.linalg.solve(test_array, test_answers)"
   ]
  },
  {
   "cell_type": "markdown",
   "metadata": {},
   "source": [
    "### 3. Porovnání přístupů"
   ]
  },
  {
   "cell_type": "code",
   "execution_count": 12,
   "metadata": {},
   "outputs": [],
   "source": [
    "def testing_round(method:Callable, matrix:np.ndarray, answers:np.ndarray, repeat:int = 50):\n",
    "    tested_func = lambda : method(matrix, answers)\n",
    "    times = timeit.timeit(tested_func, number=repeat)\n",
    "    return times\n",
    "\n",
    "\n",
    "def test_matrix_function(repeat:int = 10, max_dimension:int = 251) -> dict:\n",
    "    direct_dict = {}\n",
    "    iterative_dict = {}\n",
    "    primes = generate_primes(max_dimension)\n",
    "    for dimension in range(3, max_dimension):\n",
    "        print(\"Generating dim:\" + str(dimension))\n",
    "        tested_matrix, tested_answers = generate_matrix(dimension, primes)\n",
    "        print(\"Testing\")\n",
    "        direct_dict.update({dimension:testing_round(gaussian_elimination, tested_matrix, tested_answers)})\n",
    "        iterative_dict.update({dimension:testing_round(gauss_seidel, tested_matrix, tested_answers)})\n",
    "        if dimension % 10 == 0:\n",
    "            print(f\"{str(direct_dict[dimension])}, {str(iterative_dict[dimension])}\")\n",
    "\n",
    "    return (direct_dict, iterative_dict)"
   ]
  },
  {
   "cell_type": "code",
   "execution_count": 13,
   "metadata": {},
   "outputs": [
    {
     "name": "stdout",
     "output_type": "stream",
     "text": [
      "Generating dim:3\n",
      "Testing\n",
      "Generating dim:4\n",
      "Testing\n",
      "Generating dim:5\n",
      "Testing\n",
      "Generating dim:6\n",
      "Testing\n",
      "Generating dim:7\n",
      "Testing\n",
      "Generating dim:8\n",
      "Testing\n",
      "Generating dim:9\n",
      "Testing\n",
      "Generating dim:10\n",
      "Testing\n",
      "0.011507800008985214, 0.024829000001773238\n",
      "Generating dim:11\n",
      "Testing\n",
      "Generating dim:12\n",
      "Testing\n",
      "Generating dim:13\n",
      "Testing\n",
      "Generating dim:14\n",
      "Testing\n",
      "Generating dim:15\n",
      "Testing\n",
      "Generating dim:16\n",
      "Testing\n",
      "Generating dim:17\n",
      "Testing\n",
      "Generating dim:18\n",
      "Testing\n",
      "Generating dim:19\n",
      "Testing\n",
      "Generating dim:20\n",
      "Testing\n",
      "0.03511440000147559, 0.0324553999962518\n",
      "Generating dim:21\n",
      "Testing\n",
      "Generating dim:22\n",
      "Testing\n",
      "Generating dim:23\n",
      "Testing\n",
      "Generating dim:24\n",
      "Testing\n",
      "Generating dim:25\n",
      "Testing\n",
      "Generating dim:26\n",
      "Testing\n",
      "Generating dim:27\n",
      "Testing\n",
      "Generating dim:28\n",
      "Testing\n",
      "Generating dim:29\n",
      "Testing\n",
      "Generating dim:30\n",
      "Testing\n",
      "0.0648254999978235, 0.08774170000106096\n",
      "Generating dim:31\n",
      "Testing\n",
      "Generating dim:32\n",
      "Testing\n",
      "Generating dim:33\n",
      "Testing\n",
      "Generating dim:34\n",
      "Testing\n",
      "Generating dim:35\n",
      "Testing\n",
      "Generating dim:36\n",
      "Testing\n",
      "Generating dim:37\n",
      "Testing\n",
      "Generating dim:38\n",
      "Testing\n",
      "Generating dim:39\n",
      "Testing\n",
      "Generating dim:40\n",
      "Testing\n",
      "0.14680429999134503, 0.070679199998267\n",
      "Generating dim:41\n",
      "Testing\n",
      "Generating dim:42\n",
      "Testing\n",
      "Generating dim:43\n",
      "Testing\n",
      "Generating dim:44\n",
      "Testing\n",
      "Generating dim:45\n",
      "Testing\n",
      "Generating dim:46\n",
      "Testing\n",
      "Generating dim:47\n",
      "Testing\n",
      "Generating dim:48\n",
      "Testing\n",
      "Generating dim:49\n",
      "Testing\n",
      "Generating dim:50\n",
      "Testing\n",
      "0.16579970000020694, 0.0835501999972621\n",
      "Generating dim:51\n",
      "Testing\n",
      "Generating dim:52\n",
      "Testing\n",
      "Generating dim:53\n",
      "Testing\n",
      "Generating dim:54\n",
      "Testing\n",
      "Generating dim:55\n",
      "Testing\n",
      "Generating dim:56\n",
      "Testing\n",
      "Generating dim:57\n",
      "Testing\n",
      "Generating dim:58\n",
      "Testing\n"
     ]
    },
    {
     "name": "stderr",
     "output_type": "stream",
     "text": [
      "c:\\Users\\Matej\\AppData\\Local\\Programs\\Python\\Python312\\Lib\\site-packages\\numpy\\linalg\\linalg.py:2180: RuntimeWarning: overflow encountered in det\n",
      "  r = _umath_linalg.det(a, signature=signature)\n"
     ]
    },
    {
     "name": "stdout",
     "output_type": "stream",
     "text": [
      "Generating dim:59\n",
      "Testing\n",
      "Generating dim:60\n",
      "Testing\n",
      "0.23680940001213457, 0.24808569999004249\n",
      "Generating dim:61\n",
      "Testing\n",
      "Generating dim:62\n",
      "Testing\n",
      "Generating dim:63\n",
      "Testing\n",
      "Generating dim:64\n",
      "Testing\n",
      "Generating dim:65\n",
      "Testing\n",
      "Generating dim:66\n",
      "Testing\n",
      "Generating dim:67\n",
      "Testing\n",
      "Generating dim:68\n",
      "Testing\n",
      "Generating dim:69\n",
      "Testing\n",
      "Generating dim:70\n",
      "Testing\n",
      "0.3949348000023747, 0.1601996999961557\n",
      "Generating dim:71\n",
      "Testing\n",
      "Generating dim:72\n",
      "Testing\n",
      "Generating dim:73\n",
      "Testing\n",
      "Generating dim:74\n",
      "Testing\n",
      "Generating dim:75\n",
      "Testing\n",
      "Generating dim:76\n",
      "Testing\n",
      "Generating dim:77\n",
      "Testing\n",
      "Generating dim:78\n",
      "Testing\n",
      "Generating dim:79\n",
      "Testing\n",
      "Generating dim:80\n",
      "Testing\n",
      "0.5021685999963665, 0.2714455000095768\n",
      "Generating dim:81\n",
      "Testing\n",
      "Generating dim:82\n",
      "Testing\n",
      "Generating dim:83\n",
      "Testing\n",
      "Generating dim:84\n",
      "Testing\n",
      "Generating dim:85\n",
      "Testing\n",
      "Generating dim:86\n",
      "Testing\n",
      "Generating dim:87\n",
      "Testing\n",
      "Generating dim:88\n",
      "Testing\n",
      "Generating dim:89\n",
      "Testing\n",
      "Generating dim:90\n",
      "Testing\n",
      "0.6492705999989994, 0.40769550000550225\n",
      "Generating dim:91\n",
      "Testing\n",
      "Generating dim:92\n",
      "Testing\n",
      "Generating dim:93\n",
      "Testing\n",
      "Generating dim:94\n",
      "Testing\n",
      "Generating dim:95\n",
      "Testing\n",
      "Generating dim:96\n",
      "Testing\n",
      "Generating dim:97\n",
      "Testing\n",
      "Generating dim:98\n",
      "Testing\n",
      "Generating dim:99\n",
      "Testing\n",
      "Generating dim:100\n",
      "Testing\n",
      "0.8195809000026202, 0.6103969999967376\n"
     ]
    }
   ],
   "source": [
    "direct_results, iterative_results = test_matrix_function(repeat=5,max_dimension=101)"
   ]
  },
  {
   "cell_type": "code",
   "execution_count": 17,
   "metadata": {},
   "outputs": [
    {
     "data": {
      "image/png": "[encoded data removed]",
      "text/plain": [
       "<Figure size 640x480 with 1 Axes>"
      ]
     },
     "metadata": {},
     "output_type": "display_data"
    }
   ],
   "source": [
    "plt.plot(direct_results.keys(), direct_results.values())\n",
    "plt.plot(iterative_results.keys(), iterative_results.values())\n",
    "plt.legend([\"Direct method\", \"Iterative method\"])\n",
    "\n",
    "plt.show()"
   ]
  },
  {
   "cell_type": "markdown",
   "metadata": {},
   "source": [
    "#### Poznámka\n",
    "V dané úrovni jsou metody testovány 5x na stejné matici. Tímto vznikají hroty v grafu: Je vygenerována matice, která iterační metodě moc nesedne, a vlivem tohoto iterační metoda trvá déle.\n",
    "\n",
    "Nicméně v grafu jde vidět, že maximální dimenze, do které je přímá metoda efektivnější (nebo stejně efektivní) se je přibližně 20 (tolerance 5)."
   ]
  }
 ],
 "metadata": {
  "kernelspec": {
   "display_name": "Python 3",
   "language": "python",
   "name": "python3"
  },
  "language_info": {
   "codemirror_mode": {
    "name": "ipython",
    "version": 3
   },
   "file_extension": ".py",
   "mimetype": "text/x-python",
   "name": "python",
   "nbconvert_exporter": "python",
   "pygments_lexer": "ipython3",
   "version": "3.12.0"
  }
 },
 "nbformat": 4,
 "nbformat_minor": 2
}
