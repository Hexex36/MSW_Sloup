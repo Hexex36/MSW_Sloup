{
 "cells": [
  {
   "cell_type": "markdown",
   "metadata": {},
   "source": [
    "## Knihovny a moduly pro matematické výpočty"
   ]
  },
  {
   "cell_type": "markdown",
   "metadata": {},
   "source": [
    "### 0. Příprava"
   ]
  },
  {
   "cell_type": "markdown",
   "metadata": {},
   "source": [
    "#### 0.1. Načtení knihoven "
   ]
  },
  {
   "cell_type": "code",
   "execution_count": 2,
   "metadata": {},
   "outputs": [],
   "source": [
    "# Knihovny obsahující testovaný obsah\n",
    "import numpy as np\n",
    "import statistics\n",
    "import math\n",
    "#-----------------\n",
    "# Pomocné knihovny\n",
    "import timeit\n",
    "from random import randint\n",
    "from typing import Callable, Iterable\n"
   ]
  },
  {
   "cell_type": "markdown",
   "metadata": {},
   "source": [
    "#### 0.2. Vytvoření testovací funkce"
   ]
  },
  {
   "cell_type": "code",
   "execution_count": 9,
   "metadata": {},
   "outputs": [],
   "source": [
    "def function_testing(test_func:Callable, test_data:any) -> float:\n",
    "    testing_code = lambda: test_func(test_data)\n",
    "\n",
    "    times = timeit.repeat(testing_code, number=1000)\n",
    "\n",
    "    return sum(times) / len(times)"
   ]
  },
  {
   "cell_type": "markdown",
   "metadata": {},
   "source": [
    "### 1. Kumulativní suma"
   ]
  },
  {
   "cell_type": "markdown",
   "metadata": {},
   "source": [
    "#### 1.1. Standardní knihovna"
   ]
  },
  {
   "cell_type": "code",
   "execution_count": 2,
   "metadata": {},
   "outputs": [],
   "source": [
    "def cumsum_std(unsummed:Iterable) -> Iterable | list:\n",
    "    if not isinstance(unsummed, list):\n",
    "            unsummed = list(unsummed)\n",
    "\n",
    "    for index in range(1, len(unsummed)):\n",
    "        unsummed[index] += unsummed[index - 1]\n",
    "        \n",
    "    return unsummed"
   ]
  },
  {
   "cell_type": "code",
   "execution_count": 3,
   "metadata": {},
   "outputs": [
    {
     "data": {
      "text/plain": [
       "[4, 9, 12, 17, 21]"
      ]
     },
     "execution_count": 3,
     "metadata": {},
     "output_type": "execute_result"
    }
   ],
   "source": [
    "cumsum_std((4,5,3,5,4))"
   ]
  },
  {
   "cell_type": "markdown",
   "metadata": {},
   "source": [
    "#### 1.2. Specializovaná knihovna"
   ]
  },
  {
   "cell_type": "code",
   "execution_count": 3,
   "metadata": {},
   "outputs": [],
   "source": [
    "def cumsum_spec(unsummed:Iterable) -> \"np.array\":\n",
    "    if not isinstance(unsummed, np.ndarray):\n",
    "        unsummed = np.array(unsummed)\n",
    "    return unsummed.cumsum()"
   ]
  },
  {
   "cell_type": "code",
   "execution_count": 4,
   "metadata": {},
   "outputs": [
    {
     "data": {
      "text/plain": [
       "array([ 4,  9, 12, 17, 21])"
      ]
     },
     "execution_count": 4,
     "metadata": {},
     "output_type": "execute_result"
    }
   ],
   "source": [
    "cumsum_spec((4,5,3,5,4))"
   ]
  },
  {
   "cell_type": "markdown",
   "metadata": {},
   "source": [
    "#### 1.3. Testování\n",
    "Poznámka: Každá funkce má lepší výkon pro specifický typ vstupu, takže asi nejlepší bude testovat rychlost pro více typů aby šlo výkon správně porovnat."
   ]
  },
  {
   "cell_type": "code",
   "execution_count": 93,
   "metadata": {},
   "outputs": [],
   "source": [
    "example_data_cumsum_list = [randint(1,10) for x in range(10000)]\n",
    "example_data_cumsum_array = np.array([randint(1,10) for x in range(10000)])\n",
    "example_data_cumsum_tuple = tuple([randint(1,10) for x in range(10000)])"
   ]
  },
  {
   "cell_type": "code",
   "execution_count": 100,
   "metadata": {},
   "outputs": [
    {
     "name": "stdout",
     "output_type": "stream",
     "text": [
      "3.8987202400050593\n",
      "10.317593379999744\n"
     ]
    }
   ],
   "source": [
    "print(function_testing(cumsum_std, example_data_cumsum_list))\n",
    "print(function_testing(cumsum_spec, example_data_cumsum_list))"
   ]
  },
  {
   "cell_type": "code",
   "execution_count": 101,
   "metadata": {},
   "outputs": [
    {
     "name": "stderr",
     "output_type": "stream",
     "text": [
      "C:\\Users\\Matej\\AppData\\Local\\Temp\\ipykernel_20444\\2692247240.py:8: RuntimeWarning: overflow encountered in scalar add\n",
      "  unsummed[index] += unsummed[index - 1]\n"
     ]
    },
    {
     "name": "stdout",
     "output_type": "stream",
     "text": [
      "5.1411001200089235\n",
      "0.01826794000226073\n"
     ]
    }
   ],
   "source": [
    "print(function_testing(cumsum_std, example_data_cumsum_array))\n",
    "print(function_testing(cumsum_spec, example_data_cumsum_array))"
   ]
  },
  {
   "cell_type": "code",
   "execution_count": 106,
   "metadata": {},
   "outputs": [
    {
     "name": "stdout",
     "output_type": "stream",
     "text": [
      "1.0186178200005087\n",
      "0.4902250599930994\n"
     ]
    }
   ],
   "source": [
    "print(function_testing(cumsum_std, example_data_cumsum_tuple))\n",
    "print(function_testing(cumsum_spec, example_data_cumsum_tuple))"
   ]
  },
  {
   "cell_type": "markdown",
   "metadata": {},
   "source": [
    "### 2. Determinant"
   ]
  },
  {
   "cell_type": "markdown",
   "metadata": {},
   "source": [
    "#### 2.1. Standardní knihovna"
   ]
  },
  {
   "cell_type": "code",
   "execution_count": 59,
   "metadata": {},
   "outputs": [],
   "source": [
    "def downslice(matrix:list, index:int) -> list:\n",
    "    if len(matrix) == index:\n",
    "        selection = lambda row: []\n",
    "    else:\n",
    "        selection = lambda row: row[index+1:]\n",
    "    \n",
    "    unrow = matrix[1:]\n",
    "    uncolumn = [row[:index] + selection(row=row) for row in unrow]\n",
    "\n",
    "    return uncolumn\n",
    "\n",
    "def square_check(matrix:list):\n",
    "    width = len(matrix)\n",
    "    for row in matrix:\n",
    "        if width != len(row):\n",
    "            return False\n",
    "        \n",
    "    return True\n",
    "\n",
    "\n",
    "def determinant_std(matrix:list) -> int | float:\n",
    "    assert square_check(matrix), \"Matrix must be of a square shape.\"\n",
    "\n",
    "    if len(matrix) == 2:\n",
    "        return matrix[0][0] * matrix[1][1] - matrix[0][1] * matrix[1][0]\n",
    "    \n",
    "    first_row = matrix[0]\n",
    "\n",
    "    one_expansion = lambda index, num: (-1)**index * num * determinant_std(downslice(matrix, index))\n",
    "\n",
    "    expansion_values = [one_expansion(index=index, num=num) for index, num in enumerate(first_row)]\n",
    "\n",
    "    return sum(expansion_values)\n"
   ]
  },
  {
   "cell_type": "code",
   "execution_count": 65,
   "metadata": {},
   "outputs": [
    {
     "data": {
      "text/plain": [
       "54"
      ]
     },
     "execution_count": 65,
     "metadata": {},
     "output_type": "execute_result"
    }
   ],
   "source": [
    "myList = [\n",
    "    [1,2,3,6],\n",
    "    [4,5,6,16],\n",
    "    [7,5,9,21],\n",
    "    [10,11,12,33]\n",
    "]\n",
    "\n",
    "determinant_std(myList)"
   ]
  },
  {
   "cell_type": "markdown",
   "metadata": {},
   "source": [
    "#### 2.2. Specializovaná knihovna"
   ]
  },
  {
   "cell_type": "code",
   "execution_count": 60,
   "metadata": {},
   "outputs": [],
   "source": [
    "determinant_spec = lambda matrix: np.linalg.det(matrix)"
   ]
  },
  {
   "cell_type": "code",
   "execution_count": 66,
   "metadata": {},
   "outputs": [
    {
     "data": {
      "text/plain": [
       "54.00000000000001"
      ]
     },
     "execution_count": 66,
     "metadata": {},
     "output_type": "execute_result"
    }
   ],
   "source": [
    "determinant_spec(myList)"
   ]
  },
  {
   "cell_type": "markdown",
   "metadata": {},
   "source": [
    "#### 2.3. Testování"
   ]
  },
  {
   "cell_type": "code",
   "execution_count": 69,
   "metadata": {},
   "outputs": [
    {
     "data": {
      "text/plain": [
       "[[-10, 12, -10, -10, 4, 14],\n",
       " [-9, -8, 0, 14, 12, -12],\n",
       " [-2, 1, -12, -2, -8, -7],\n",
       " [12, 1, -12, -11, 14, 0],\n",
       " [-9, 2, -6, 1, 4, -13],\n",
       " [1, 3, 3, 4, -12, 6]]"
      ]
     },
     "execution_count": 69,
     "metadata": {},
     "output_type": "execute_result"
    }
   ],
   "source": [
    "example_determinant = [ [randint(-15,15) for x in range(6)] for y in range(6)]\n",
    "example_determinant"
   ]
  },
  {
   "cell_type": "code",
   "execution_count": 70,
   "metadata": {},
   "outputs": [
    {
     "name": "stdout",
     "output_type": "stream",
     "text": [
      "1.0220108999870718\n",
      "0.009488440002314746\n"
     ]
    }
   ],
   "source": [
    "print(function_testing(determinant_std, example_determinant))\n",
    "print(function_testing(determinant_spec, example_determinant))"
   ]
  },
  {
   "cell_type": "markdown",
   "metadata": {},
   "source": [
    "### 3. Transponovaná matice"
   ]
  },
  {
   "cell_type": "markdown",
   "metadata": {},
   "source": [
    "#### 3.1. Standardní knihovna"
   ]
  },
  {
   "cell_type": "code",
   "execution_count": 71,
   "metadata": {},
   "outputs": [],
   "source": [
    "def transposed_std(matrix:list) -> list:\n",
    "    return [ [matrix[y][x] for y in range(len(matrix)) ] for x in range(len(matrix[0]))]"
   ]
  },
  {
   "cell_type": "code",
   "execution_count": 72,
   "metadata": {},
   "outputs": [
    {
     "data": {
      "text/plain": [
       "[[1, 4, 7, 10], [2, 5, 5, 11], [3, 6, 9, 12], [6, 16, 21, 33]]"
      ]
     },
     "execution_count": 72,
     "metadata": {},
     "output_type": "execute_result"
    }
   ],
   "source": [
    "transposed_std(myList)"
   ]
  },
  {
   "cell_type": "markdown",
   "metadata": {},
   "source": [
    "#### 3.2. Specializovaná knihovna"
   ]
  },
  {
   "cell_type": "code",
   "execution_count": 73,
   "metadata": {},
   "outputs": [],
   "source": [
    "transposed_spec = lambda matrix: np.matrix.transpose(matrix)"
   ]
  },
  {
   "cell_type": "code",
   "execution_count": 75,
   "metadata": {},
   "outputs": [
    {
     "data": {
      "text/plain": [
       "array([[ 1,  4,  7, 10],\n",
       "       [ 2,  5,  5, 11],\n",
       "       [ 3,  6,  9, 12],\n",
       "       [ 6, 16, 21, 33]])"
      ]
     },
     "execution_count": 75,
     "metadata": {},
     "output_type": "execute_result"
    }
   ],
   "source": [
    "myArray = np.array(myList)\n",
    "transposed_spec(myArray)"
   ]
  },
  {
   "cell_type": "markdown",
   "metadata": {},
   "source": [
    "#### 3.3. Testování"
   ]
  },
  {
   "cell_type": "code",
   "execution_count": 78,
   "metadata": {},
   "outputs": [
    {
     "data": {
      "text/plain": [
       "array([[ 10,  -6, -14, -11,  -4,   2,   2,  11,   1,   7,  -8,  11,  -4,\n",
       "         -2,  -3,  14,  -4,   1,   0,  10,  10,   1, -13,  14, -15],\n",
       "       [ -7,  -3, -14,   2,  -8, -14,  -9,  12, -14, -11,  -1, -12, -14,\n",
       "         10,  -3,  15,   1,   7,   6,   0, -13,   0,   8,   3, -10],\n",
       "       [ -7,  -7,  10,   9,   7,  -9,  -6,  -6,  -1,   0,  -3,   3,   5,\n",
       "         -8,  13,  -6,  14,  13, -15,   4, -14,  13, -11,  -4,   9],\n",
       "       [-15,   5,  11,  15,  12,  14,   9,  -3,   5,  -8, -13,  15,   5,\n",
       "          9,  -9, -13,   9,  -3, -10,   2,  13,   9,  -8,   9, -14],\n",
       "       [  4,   3,  -7,  -4,  -9,  -5,  -3, -12, -14,   2,  -4,   2,  -9,\n",
       "         -4, -11,   0,  -8,  10,   6,   4,  -4,   1,  14,  -1, -14],\n",
       "       [ 15, -15,  15,   9, -14,   5,  12,   6,  11,  14,   4,  14,   3,\n",
       "         12,  14, -10, -10,   3,  -8,  12,   0,  15,  -5,   0,  14],\n",
       "       [ -4,  15,   0,  -9,   7,   4, -14, -11,  10,  10,  14,   2,  10,\n",
       "         13, -10,   5,  13, -13, -13,   5,   1,   7,   8, -11,   5],\n",
       "       [ -6,  12,   9,   9,  12,   0,   0,  14,  11,   1,  -2,  15,   0,\n",
       "         15,   7,  12,   5,  -2, -11, -10,   8,   4,   8, -11, -15],\n",
       "       [  0,   7, -12,  -9,  -6, -15,  13,   7,  -4, -12,   2, -13,   8,\n",
       "        -10,   2,  15, -15,   1,   6, -12,   6,   4, -15,   4,  -6],\n",
       "       [ 13,  -8,  -2,  -4,   9,   8,   4,   8, -13,   3,  -8,  10,   2,\n",
       "          1,  13,  11,  -7,   4,  13,  -5,  -1,   5,  -8, -11,  -5],\n",
       "       [ 11, -11,  -7,  -2,  -4, -14,  -5, -14,   1,  -2,  11, -10,   0,\n",
       "         -4,  11,   8, -12,  -3,  11, -15,  12,  -8,  -9,  15,  -5],\n",
       "       [  2,  -4,  -5,   1,   1,  -2, -12,   6,   4, -15,   2,  11, -12,\n",
       "        -15,  15,  -4,  -3,   3,  -5,   3,  -1,  -7,  11,   6,   8],\n",
       "       [-13,   2,   5,   0,  -8,  -3, -12,  13, -13,   8,  -1,  -2,   2,\n",
       "          2,  -5,   0,   7, -15,  12,  10,   6,   0, -13,  -9,  -2],\n",
       "       [  2,   0,  -8,  11,  14, -14,  13,  -2, -15,   2,   4,  -5,   7,\n",
       "         13, -12,  11,   4, -15,  -9,  -2,   7,   6,  -9,  13,  -4],\n",
       "       [ -8,   6,  -3, -13,  -7,   3,  -3, -12,  14,  -5,  15,   0, -11,\n",
       "         -1,  12,  -3, -10,  -5,  -3,  14,   3,   7,  -7, -14,  -5],\n",
       "       [  1,  -2,   1,   4,  -1,  -6,  -2,  -8,   6, -13, -10, -14,   1,\n",
       "          8,  -2, -13,   7,  -1,  10,  -6,   7,  11,   2,  -6,   0],\n",
       "       [-11,  -2,   6,  -3,   3,  -8,  -5, -10,  -3,   0,  -4,  12,   3,\n",
       "         -1,   1,  13,  12,   7, -13,  -1, -15,  -8, -10,   9,  13],\n",
       "       [  2, -13,  -2,   9, -12, -14,   7,   6,  15,  -9,   1,   9,   8,\n",
       "          8, -10,   1, -15,   9, -11,   6,   8, -11,   7,  -8,   9],\n",
       "       [ 15,  12,  -6,  12,  -9, -13,  -3,  13, -13,  -9, -10,  -9,  -5,\n",
       "          2,  -3,  11,  15, -14,   2, -10,   4,  -3, -10,   9,  11],\n",
       "       [ -5,   2,   0,  12, -10,   0,  -9,   1, -12,   3,  -1,  15,  14,\n",
       "         12,   9,  -7,  -9,  11,  12,  -5, -15,  -7,   8,   5,  -9],\n",
       "       [  4,  -4,  10,   8,  14,  -8,   8,  -2,   3, -12,  10,  -9,   9,\n",
       "         13,   4,   3,   3,  -1,  -2, -14,   7,   4,   8,  -7,   5],\n",
       "       [ -7,  15,   6,   9,  14,  10,  15,  15,  -8,  14,  13,   3,   8,\n",
       "         11,  -5,  -1,   5,   4,  -1, -12,   9,   2,   4,   0,  -9],\n",
       "       [ 15,  10,  -2,   7,  -3,   8,  11,  13,   1, -14,   3,   6, -14,\n",
       "         12,  -3,   9, -13,  15, -15,   8,   5,  10,   4,  -1,   9],\n",
       "       [  9, -10,  -6,   8,  -4,   4,  -1,  11,  -4,   2,  10, -15,   1,\n",
       "         14, -12,   6,   8, -15,   0,   4,  15,   0,   9,   5,  -3],\n",
       "       [ -6, -12,  15,   5,   7, -13,  10,  13,  -7,   2,   7,   4,  -8,\n",
       "          9, -13,  -2,  -4,   2,  11,   1, -10,  -9,  14,  -7,  13]])"
      ]
     },
     "execution_count": 78,
     "metadata": {},
     "output_type": "execute_result"
    }
   ],
   "source": [
    "example_transposition_list = [ [randint(-15,15) for x in range(25)] for y in range(25)]\n",
    "example_transposition_array = np.array(example_transposition_list)\n",
    "example_transposition_array"
   ]
  },
  {
   "cell_type": "code",
   "execution_count": 79,
   "metadata": {},
   "outputs": [
    {
     "name": "stdout",
     "output_type": "stream",
     "text": [
      "0.03428053999668919\n",
      "0.00021081999875605106\n"
     ]
    }
   ],
   "source": [
    "print(function_testing(transposed_std, example_transposition_list))\n",
    "print(function_testing(transposed_spec, example_transposition_array))"
   ]
  },
  {
   "cell_type": "markdown",
   "metadata": {},
   "source": [
    "### 4. Směrodatná odchylka"
   ]
  },
  {
   "cell_type": "markdown",
   "metadata": {},
   "source": [
    "#### 4.1. Standardní knihovna"
   ]
  },
  {
   "cell_type": "code",
   "execution_count": 34,
   "metadata": {},
   "outputs": [],
   "source": [
    "def std_dev_std(data:Iterable) -> float:\n",
    "    average_val = sum(data) / len(data)\n",
    "    variance = sum([(data[index] - average_val)**2 for index in range(len(data))]) * (1 / len(data))\n",
    "    return variance**(1/2)"
   ]
  },
  {
   "cell_type": "markdown",
   "metadata": {},
   "source": [
    "#### 4.2. Specializovaná knihovna"
   ]
  },
  {
   "cell_type": "code",
   "execution_count": 31,
   "metadata": {},
   "outputs": [],
   "source": [
    "def std_dev_spec(data:Iterable) -> float:\n",
    "    return statistics.pstdev(data)"
   ]
  },
  {
   "cell_type": "markdown",
   "metadata": {},
   "source": [
    "#### 4.3. Testování"
   ]
  },
  {
   "cell_type": "code",
   "execution_count": 37,
   "metadata": {},
   "outputs": [],
   "source": [
    "example_std_dev = [randint(1, 50) for x in range(20)]"
   ]
  },
  {
   "cell_type": "code",
   "execution_count": 38,
   "metadata": {},
   "outputs": [
    {
     "name": "stdout",
     "output_type": "stream",
     "text": [
      "0.006168959999922663\n",
      "0.026250360009726137\n"
     ]
    }
   ],
   "source": [
    "print(function_testing(std_dev_std, example_std_dev))\n",
    "print(function_testing(std_dev_spec, example_std_dev))\n"
   ]
  },
  {
   "cell_type": "markdown",
   "metadata": {},
   "source": [
    "### 5. Kombinační číslo"
   ]
  },
  {
   "cell_type": "markdown",
   "metadata": {},
   "source": [
    "#### 5.1. Standardní knihovna"
   ]
  },
  {
   "cell_type": "code",
   "execution_count": 2,
   "metadata": {},
   "outputs": [],
   "source": [
    "def comb_std(parameter_tuple:tuple) -> int:\n",
    "    element_count = parameter_tuple[0]\n",
    "    pick_count = parameter_tuple[1]\n",
    "    variation_elems = range(element_count, element_count - pick_count, -1)\n",
    "    repeat_cases_elems = range(1, pick_count + 1)\n",
    "\n",
    "    variation = 1\n",
    "    repeat_cases = 1\n",
    "    for index in range(pick_count):\n",
    "        variation *= variation_elems[index]\n",
    "        repeat_cases *= repeat_cases_elems[index]\n",
    "\n",
    "    return int(variation / repeat_cases)"
   ]
  },
  {
   "cell_type": "code",
   "execution_count": 3,
   "metadata": {},
   "outputs": [
    {
     "data": {
      "text/plain": [
       "210"
      ]
     },
     "execution_count": 3,
     "metadata": {},
     "output_type": "execute_result"
    }
   ],
   "source": [
    "comb_std((10, 4))"
   ]
  },
  {
   "cell_type": "markdown",
   "metadata": {},
   "source": [
    "#### 5.2. Specializovaná knihovna"
   ]
  },
  {
   "cell_type": "code",
   "execution_count": 4,
   "metadata": {},
   "outputs": [],
   "source": [
    "def comb_spec(parameter_tuple:tuple) -> int:\n",
    "    element_count = parameter_tuple[0]\n",
    "    pick_count = parameter_tuple[1]\n",
    "    return math.comb(element_count, pick_count)"
   ]
  },
  {
   "cell_type": "code",
   "execution_count": 7,
   "metadata": {},
   "outputs": [
    {
     "data": {
      "text/plain": [
       "210"
      ]
     },
     "execution_count": 7,
     "metadata": {},
     "output_type": "execute_result"
    }
   ],
   "source": [
    "comb_spec((10, 4))"
   ]
  },
  {
   "cell_type": "markdown",
   "metadata": {},
   "source": [
    "#### 5.3. Testování"
   ]
  },
  {
   "cell_type": "code",
   "execution_count": 13,
   "metadata": {},
   "outputs": [
    {
     "name": "stdout",
     "output_type": "stream",
     "text": [
      "0.015082280000206083\n",
      "0.001779559999704361\n"
     ]
    }
   ],
   "source": [
    "print(function_testing(comb_std, (1000, 45)))\n",
    "print(function_testing(comb_spec, (1000, 45)))"
   ]
  }
 ],
 "metadata": {
  "kernelspec": {
   "display_name": "Python 3",
   "language": "python",
   "name": "python3"
  },
  "language_info": {
   "codemirror_mode": {
    "name": "ipython",
    "version": 3
   },
   "file_extension": ".py",
   "mimetype": "text/x-python",
   "name": "python",
   "nbconvert_exporter": "python",
   "pygments_lexer": "ipython3",
   "version": "3.12.0"
  }
 },
 "nbformat": 4,
 "nbformat_minor": 2
}
